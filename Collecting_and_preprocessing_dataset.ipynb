{
  "cells": [
    {
      "cell_type": "markdown",
      "metadata": {
        "id": "view-in-github",
        "colab_type": "text"
      },
      "source": [
        "<a href=\"https://colab.research.google.com/github/IBM-EPBL/IBM-Project-49171-1660816515/blob/main/Collecting_and_preprocessing_dataset.ipynb\" target=\"_parent\"><img src=\"https://colab.research.google.com/assets/colab-badge.svg\" alt=\"Open In Colab\"/></a>"
      ]
    },
    {
      "cell_type": "code",
      "execution_count": null,
      "id": "21dd750e",
      "metadata": {
        "id": "21dd750e"
      },
      "outputs": [],
      "source": [
        "import pandas as pd\n",
        "import numpy as np\n",
        "import matplotlib as plt\n",
        "from sklearn.preprocessing import LabelEncoder\n",
        "import pickle"
      ]
    },
    {
      "cell_type": "code",
      "execution_count": null,
      "id": "fc71fc1f",
      "metadata": {
        "id": "fc71fc1f"
      },
      "outputs": [],
      "source": [
        "df=pd.read_csv(\"Data/autos.csv\",header=0,sep=',',encoding='latin',)"
      ]
    },
    {
      "cell_type": "code",
      "execution_count": null,
      "id": "b9418abd",
      "metadata": {
        "id": "b9418abd",
        "outputId": "2a14705c-2a0f-424b-e920-458a2e816d60"
      },
      "outputs": [
        {
          "data": {
            "text/plain": [
              "Index(['dateCrawled', 'name', 'seller', 'offerType', 'price', 'abtest',\n",
              "       'vehicleType', 'yearOfRegistration', 'gearbox', 'powerPS', 'model',\n",
              "       'kilometer', 'monthOfRegistration', 'fuelType', 'brand',\n",
              "       'notRepairedDamage', 'dateCreated', 'nrOfPictures', 'postalCode',\n",
              "       'lastSeen'],\n",
              "      dtype='object')"
            ]
          },
          "execution_count": 3,
          "metadata": {},
          "output_type": "execute_result"
        }
      ],
      "source": [
        "df.columns"
      ]
    },
    {
      "cell_type": "code",
      "execution_count": null,
      "id": "767e0a1e",
      "metadata": {
        "id": "767e0a1e",
        "outputId": "aed95c68-b182-4bd6-b905-073a988915aa"
      },
      "outputs": [
        {
          "name": "stdout",
          "output_type": "stream",
          "text": [
            "privat        371525\n",
            "gewerblich         3\n",
            "Name: seller, dtype: int64\n"
          ]
        },
        {
          "name": "stderr",
          "output_type": "stream",
          "text": [
            "C:\\Users\\aswin\\AppData\\Local\\Temp\\ipykernel_6164\\3908850996.py:3: FutureWarning: In a future version of pandas all arguments of DataFrame.drop except for the argument 'labels' will be keyword-only.\n",
            "  df=df.drop('seller',1)\n"
          ]
        },
        {
          "name": "stdout",
          "output_type": "stream",
          "text": [
            "Angebot    371516\n",
            "Gesuch         12\n",
            "Name: offerType, dtype: int64\n"
          ]
        },
        {
          "name": "stderr",
          "output_type": "stream",
          "text": [
            "C:\\Users\\aswin\\AppData\\Local\\Temp\\ipykernel_6164\\3908850996.py:6: FutureWarning: In a future version of pandas all arguments of DataFrame.drop except for the argument 'labels' will be keyword-only.\n",
            "  df=df.drop ('offerType',1)\n"
          ]
        }
      ],
      "source": [
        "print(df.seller.value_counts()) \n",
        "df[df.seller != 'gewerblich'] \n",
        "df=df.drop('seller',1)\n",
        "print(df.offerType.value_counts()) \n",
        "df[df.offerType != 'Gesuch'] \n",
        "df=df.drop ('offerType',1)"
      ]
    },
    {
      "cell_type": "code",
      "execution_count": null,
      "id": "4cb49f2b",
      "metadata": {
        "id": "4cb49f2b",
        "outputId": "2458e0d7-1435-4969-d018-873e293c794d"
      },
      "outputs": [
        {
          "name": "stdout",
          "output_type": "stream",
          "text": [
            "(371528, 18)\n",
            "(319709, 18)\n",
            "(319709, 18)\n",
            "(309171, 18)\n"
          ]
        }
      ],
      "source": [
        "print(df.shape) \n",
        "df = df[(df.powerPS > 50) & (df.powerPS <900)] \n",
        "print(df.shape) \n",
        "print(df.shape) \n",
        "df = df[(df.yearOfRegistration >= 1950) & (df.yearOfRegistration < 2017)] \n",
        "print(df.shape)"
      ]
    },
    {
      "cell_type": "code",
      "execution_count": null,
      "id": "c7f3a750",
      "metadata": {
        "id": "c7f3a750"
      },
      "outputs": [],
      "source": [
        "df.drop(['name', 'abtest', 'dateCrawled', 'nrOfPictures', 'lastSeen','postalCode', 'dateCreated'], axis='columns', inplace=True)"
      ]
    },
    {
      "cell_type": "code",
      "execution_count": null,
      "id": "a0320205",
      "metadata": {
        "id": "a0320205"
      },
      "outputs": [],
      "source": [
        "new_df = df.copy()"
      ]
    },
    {
      "cell_type": "code",
      "execution_count": null,
      "id": "ab48fe8d",
      "metadata": {
        "id": "ab48fe8d",
        "outputId": "f00da080-922a-49b5-99cf-1406d4d1c710"
      },
      "outputs": [
        {
          "data": {
            "text/plain": [
              "Index(['price', 'vehicleType', 'yearOfRegistration', 'gearbox', 'powerPS',\n",
              "       'model', 'kilometer', 'monthOfRegistration', 'fuelType', 'brand',\n",
              "       'notRepairedDamage'],\n",
              "      dtype='object')"
            ]
          },
          "execution_count": 10,
          "metadata": {},
          "output_type": "execute_result"
        }
      ],
      "source": [
        "df.columns"
      ]
    },
    {
      "cell_type": "code",
      "execution_count": null,
      "id": "0bb037dd",
      "metadata": {
        "id": "0bb037dd",
        "outputId": "f5faa278-6b58-411f-e410-748c59f6f575"
      },
      "outputs": [
        {
          "data": {
            "text/plain": [
              "Index(['price', 'vehicleType', 'yearOfRegistration', 'gearbox', 'powerPS',\n",
              "       'model', 'kilometer', 'monthOfRegistration', 'fuelType', 'brand',\n",
              "       'notRepairedDamage'],\n",
              "      dtype='object')"
            ]
          },
          "execution_count": 11,
          "metadata": {},
          "output_type": "execute_result"
        }
      ],
      "source": [
        "new_df.columns"
      ]
    },
    {
      "cell_type": "code",
      "execution_count": null,
      "id": "d915b504",
      "metadata": {
        "id": "d915b504"
      },
      "outputs": [],
      "source": [
        "new_df = new_df.drop_duplicates(['price', 'vehicleType', 'yearOfRegistration','gearbox', 'powerPS', 'model', 'kilometer', 'monthOfRegistration', 'fuelType' , 'notRepairedDamage'])\n"
      ]
    },
    {
      "cell_type": "code",
      "execution_count": null,
      "id": "18a84e75",
      "metadata": {
        "id": "18a84e75"
      },
      "outputs": [],
      "source": [
        "new_df.gearbox.replace(('manuell', 'automatik'), ('manual', 'automatic'), inplace=True) \n",
        "new_df.fuelType.replace(('benzin', 'andere', 'elektro'), ('petrol', 'others', 'electric'), inplace=True)\n",
        "new_df.vehicleType.replace(('kleinwagen', 'cabrio', 'kombi', 'andere'),('small car', 'convertible', 'combination', 'others'), inplace=True) \n",
        "new_df.notRepairedDamage.replace(('ja', 'nein'), ('Yes', 'No'), inplace=True)"
      ]
    },
    {
      "cell_type": "code",
      "execution_count": null,
      "id": "e5d311a8",
      "metadata": {
        "id": "e5d311a8"
      },
      "outputs": [],
      "source": [
        "new_df = new_df[(new_df.price >= 100) & (new_df.price <= 150000)]\n",
        "new_df['notRepairedDamage'].fillna (value='not-declared', inplace=True) \n",
        "new_df['fuelType'].fillna(value='not-declared', inplace=True) \n",
        "new_df['gearbox'].fillna(value='not-declared', inplace=True)\n",
        "new_df['vehicleType'].fillna(value='not-declared', inplace=True) \n",
        "new_df['model'].fillna(value='not-declared', inplace=True)"
      ]
    },
    {
      "cell_type": "code",
      "execution_count": null,
      "id": "511834b9",
      "metadata": {
        "id": "511834b9"
      },
      "outputs": [],
      "source": [
        "new_df.to_csv(\"autos_preprocessed.csv\")"
      ]
    },
    {
      "cell_type": "code",
      "execution_count": null,
      "id": "e3e9b047",
      "metadata": {
        "id": "e3e9b047",
        "outputId": "b2e346e3-abb2-4f0e-f45f-7054e56e5ccc"
      },
      "outputs": [
        {
          "name": "stdout",
          "output_type": "stream",
          "text": [
            "gearbox : LabelEncoder()\n",
            "notRepairedDamage : LabelEncoder()\n",
            "model : LabelEncoder()\n",
            "brand : LabelEncoder()\n",
            "fuelType : LabelEncoder()\n",
            "vehicleType : LabelEncoder()\n",
            "Index(['price', 'yearOfRegistration', 'powerPS', 'kilometer',\n",
            "       'monthOfRegistration', 'gearbox_labels', 'notRepairedDamage_labels',\n",
            "       'model_labels', 'brand_labels', 'fuelType_labels',\n",
            "       'vehicleType_labels'],\n",
            "      dtype='object')\n"
          ]
        }
      ],
      "source": [
        "labels = ['gearbox', 'notRepairedDamage', 'model', 'brand', 'fuelType', 'vehicleType']\n",
        "mapper = {}\n",
        "for i in labels:\n",
        "  mapper[i] = LabelEncoder() \n",
        "  mapper[i].fit(new_df[i]) \n",
        "  tr = mapper[i].transform(new_df[i])\n",
        "  np.save(str('classes'+i+'.npy'), mapper[i].classes_)\n",
        "  print(i,\":\", mapper[i])\n",
        "  new_df.loc[:, i + '_labels'] = pd. Series (tr, index=new_df.index)\n",
        "\n",
        "labeled = new_df[ ['price','yearOfRegistration' , 'powerPS' ,'kilometer' , 'monthOfRegistration']+ [x+\"_labels\" for x in labels]]\n",
        "print(labeled.columns)"
      ]
    },
    {
      "cell_type": "code",
      "execution_count": null,
      "id": "84a8d75d",
      "metadata": {
        "id": "84a8d75d"
      },
      "outputs": [],
      "source": [
        "Y=labeled.iloc[:,0].values\n",
        "X=labeled.iloc[:,1:].values\n",
        "Y=Y.reshape(-1,1)"
      ]
    },
    {
      "cell_type": "code",
      "execution_count": 1,
      "id": "d72ed743",
      "metadata": {
        "colab": {
          "base_uri": "https://localhost:8080/",
          "height": 183
        },
        "id": "d72ed743",
        "outputId": "61fb1680-7e2b-4efc-8e13-8bded548c4f9"
      },
      "outputs": [
        {
          "output_type": "error",
          "ename": "NameError",
          "evalue": "ignored",
          "traceback": [
            "\u001b[0;31m---------------------------------------------------------------------------\u001b[0m",
            "\u001b[0;31mNameError\u001b[0m                                 Traceback (most recent call last)",
            "\u001b[0;32m<ipython-input-1-7613d0cbef20>\u001b[0m in \u001b[0;36m<module>\u001b[0;34m\u001b[0m\n\u001b[1;32m      1\u001b[0m \u001b[0;32mfrom\u001b[0m \u001b[0msklearn\u001b[0m\u001b[0;34m.\u001b[0m\u001b[0mmodel_selection\u001b[0m \u001b[0;32mimport\u001b[0m \u001b[0mcross_val_score\u001b[0m\u001b[0;34m,\u001b[0m \u001b[0mtrain_test_split\u001b[0m\u001b[0;34m\u001b[0m\u001b[0;34m\u001b[0m\u001b[0m\n\u001b[0;32m----> 2\u001b[0;31m \u001b[0mX_train\u001b[0m\u001b[0;34m,\u001b[0m \u001b[0mX_test\u001b[0m\u001b[0;34m,\u001b[0m \u001b[0mY_train\u001b[0m\u001b[0;34m,\u001b[0m \u001b[0mY_test\u001b[0m \u001b[0;34m=\u001b[0m \u001b[0mtrain_test_split\u001b[0m\u001b[0;34m(\u001b[0m\u001b[0mX\u001b[0m\u001b[0;34m,\u001b[0m \u001b[0mY\u001b[0m\u001b[0;34m,\u001b[0m \u001b[0mtest_size\u001b[0m\u001b[0;34m=\u001b[0m\u001b[0;36m0.3\u001b[0m\u001b[0;34m,\u001b[0m \u001b[0mrandom_state\u001b[0m \u001b[0;34m=\u001b[0m \u001b[0;36m3\u001b[0m\u001b[0;34m)\u001b[0m\u001b[0;34m\u001b[0m\u001b[0;34m\u001b[0m\u001b[0m\n\u001b[0m",
            "\u001b[0;31mNameError\u001b[0m: name 'X' is not defined"
          ]
        }
      ],
      "source": [
        "from sklearn.model_selection import cross_val_score, train_test_split \n",
        "X_train, X_test, Y_train, Y_test = train_test_split(X, Y, test_size=0.3, random_state = 3)"
      ]
    }
  ],
  "metadata": {
    "kernelspec": {
      "display_name": "Python 3 (ipykernel)",
      "language": "python",
      "name": "python3"
    },
    "language_info": {
      "codemirror_mode": {
        "name": "ipython",
        "version": 3
      },
      "file_extension": ".py",
      "mimetype": "text/x-python",
      "name": "python",
      "nbconvert_exporter": "python",
      "pygments_lexer": "ipython3",
      "version": "3.9.12"
    },
    "colab": {
      "provenance": [],
      "include_colab_link": true
    }
  },
  "nbformat": 4,
  "nbformat_minor": 5
}